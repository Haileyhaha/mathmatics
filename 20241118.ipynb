{
 "cells": [
  {
   "cell_type": "markdown",
   "id": "d5d1fa5c-5c57-4934-9cb3-f9503002595a",
   "metadata": {},
   "source": [
    "# 두 직선의 계수를 정의합니다\n",
    "# 첫 번째 직선: 2x + 3y = 5\n",
    "# 두 번째 직선: -x + y = 5"
   ]
  },
  {
   "cell_type": "code",
   "execution_count": 4,
   "id": "db362bcb-cbb5-491d-964b-433ef5e75f9a",
   "metadata": {},
   "outputs": [],
   "source": [
    "import numpy as np\n",
    "import matplotlib.pyplot as plt\n",
    "\n",
    "A = np.array([[2, 3], [-1, 1]])\n",
    "B = np.array([5, 5])"
   ]
  },
  {
   "cell_type": "code",
   "execution_count": 6,
   "id": "47c2be56-21b8-4907-b7af-c3e2357bb0e9",
   "metadata": {},
   "outputs": [
    {
     "data": {
      "text/plain": [
       "array([-2.,  3.])"
      ]
     },
     "execution_count": 6,
     "metadata": {},
     "output_type": "execute_result"
    }
   ],
   "source": [
    "np.linalg.solve(A,B)"
   ]
  },
  {
   "cell_type": "code",
   "execution_count": 10,
   "id": "d917d980-d17e-4675-9671-936273f5f6bf",
   "metadata": {},
   "outputs": [
    {
     "name": "stdout",
     "output_type": "stream",
     "text": [
      "Requirement already satisfied: sympy in c:\\users\\asd\\appdata\\local\\anaconda3\\lib\\site-packages (1.12)\n",
      "Requirement already satisfied: mpmath>=0.19 in c:\\users\\asd\\appdata\\local\\anaconda3\\lib\\site-packages (from sympy) (1.3.0)\n"
     ]
    }
   ],
   "source": [
    "!pip install sympy"
   ]
  },
  {
   "cell_type": "code",
   "execution_count": 12,
   "id": "3b4ee7ba-85e6-4971-9e11-03f7ea3c465a",
   "metadata": {},
   "outputs": [],
   "source": [
    "from sympy import Matrix"
   ]
  },
  {
   "cell_type": "code",
   "execution_count": 14,
   "id": "362b8308-3f26-4a9e-ba9e-185f17291c1c",
   "metadata": {},
   "outputs": [],
   "source": [
    "A_Matrix = np.array([[2,3],[-1,1]])\n",
    "sympy_matrix = Matrix(A)"
   ]
  },
  {
   "cell_type": "code",
   "execution_count": 18,
   "id": "baf7a24b-b7ba-4400-9c7a-292cd32cf48a",
   "metadata": {},
   "outputs": [
    {
     "name": "stdout",
     "output_type": "stream",
     "text": [
      "행렬의 rref\n",
      "Matrix([[1, 0], [0, 1]])\n",
      "pivot columns (0, 1)\n"
     ]
    }
   ],
   "source": [
    "rref_matrix, pivot_columns = sympy_matrix.rref()\n",
    "print(\"행렬의 rref\")\n",
    "print(rref_matrix)\n",
    "print(\"pivot columns\", pivot_columns)"
   ]
  },
  {
   "cell_type": "markdown",
   "id": "d4394474-3af1-4062-bd29-2d660ac36436",
   "metadata": {},
   "source": [
    "<a href=\"https://adamdhalla.medium.com/linear-algebra-4-reduced-row-echelon-form-for-solving-ax-0-74f64b4f37ce\">RREF</a>"
   ]
  }
 ],
 "metadata": {
  "kernelspec": {
   "display_name": "Python 3 (ipykernel)",
   "language": "python",
   "name": "python3"
  },
  "language_info": {
   "codemirror_mode": {
    "name": "ipython",
    "version": 3
   },
   "file_extension": ".py",
   "mimetype": "text/x-python",
   "name": "python",
   "nbconvert_exporter": "python",
   "pygments_lexer": "ipython3",
   "version": "3.12.4"
  }
 },
 "nbformat": 4,
 "nbformat_minor": 5
}
