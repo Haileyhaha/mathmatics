{
 "cells": [
  {
   "cell_type": "markdown",
   "id": "8b369ced-49d3-4d30-b876-4a5231be300e",
   "metadata": {},
   "source": [
    "2x + 3y = 5\n",
    "-x + y = 5"
   ]
  },
  {
   "cell_type": "markdown",
   "id": "6b981902-2852-43b9-a7c4-71f29625fd2a",
   "metadata": {},
   "source": [
    "$ -2 \\begin{bmatrix}\n",
    " 2  \\\\\n",
    "-1 \n",
    "\\end{bmatrix} + 3 \\begin{bmatrix}\n",
    " 3  \\\\\n",
    "1 \n",
    "\\end{bmatrix} = \\begin{bmatrix}\n",
    " 5  \\\\\n",
    "5\n",
    "\\end{bmatrix}$"
   ]
  },
  {
   "cell_type": "markdown",
   "id": "dc5b1ad2-0dda-4b7b-b3c1-b15ae2adb838",
   "metadata": {},
   "source": [
    "<img src = \"images/1113/1.PNG\"/>"
   ]
  },
  {
   "cell_type": "markdown",
   "id": "6fc5f17b-2419-4869-907d-954259791258",
   "metadata": {},
   "source": [
    "\\[\n",
    "x \\begin{bmatrix} \n",
    "  3 \\\\ \n",
    "  -2 \\\\ \n",
    "  6 \n",
    "\\end{bmatrix} \n",
    "+ \n",
    "y \\begin{bmatrix} \n",
    "  2 \\\\ \n",
    "  4 \\\\ \n",
    "  7 \n",
    "\\end{bmatrix} \n",
    "+ \n",
    "z \\begin{bmatrix} \n",
    "  6 \\\\ \n",
    "  -2 \\\\ \n",
    "  3 \n",
    "\\end{bmatrix} = \n",
    "\\begin{bmatrix} \n",
    "  9 \\\\ \n",
    "  11 \\\\ \n",
    "  2 \n",
    "\\end{bmatrix}\n",
    "\\]"
   ]
  },
  {
   "cell_type": "code",
   "execution_count": 3,
   "id": "d76bde9e-909f-474f-9d71-02ec87844c17",
   "metadata": {},
   "outputs": [
    {
     "data": {
      "text/plain": [
       "array([ 3.88888889,  1.        , -0.11111111])"
      ]
     },
     "execution_count": 3,
     "metadata": {},
     "output_type": "execute_result"
    }
   ],
   "source": [
    "import numpy as np\n",
    "# 세 개의 3차원 벡터 정의\n",
    "A_three_dim = np.array([3, -2, 6]).T\n",
    "B_three_dim = np.array([2, 4, 7]).T\n",
    "C_three_dim = np.array([4, -8, 50]).T #C_three_dim = np.array([4, -8, 5]).T 이 벡터는 A 와 B의 선형결합(Linear combination)으로 표현되어 해가 없다, 터진다.\n",
    "\n",
    "# 목표 벡터\n",
    "target_vector = np.array([9, 11, 2])\n",
    "result = np.linalg.solve([A_three_dim, B_three_dim, C_three_dim],target_vector)\n",
    "result"
   ]
  }
 ],
 "metadata": {
  "kernelspec": {
   "display_name": "Python 3 (ipykernel)",
   "language": "python",
   "name": "python3"
  },
  "language_info": {
   "codemirror_mode": {
    "name": "ipython",
    "version": 3
   },
   "file_extension": ".py",
   "mimetype": "text/x-python",
   "name": "python",
   "nbconvert_exporter": "python",
   "pygments_lexer": "ipython3",
   "version": "3.12.4"
  }
 },
 "nbformat": 4,
 "nbformat_minor": 5
}
