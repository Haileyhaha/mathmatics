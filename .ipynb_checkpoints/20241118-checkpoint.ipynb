{
 "cells": [
  {
   "cell_type": "markdown",
   "id": "d5d1fa5c-5c57-4934-9cb3-f9503002595a",
   "metadata": {},
   "source": [
    "# 두 직선의 계수를 정의합니다\n",
    "# 첫 번째 직선: 2x + 3y = 5\n",
    "# 두 번째 직선: -x + y = 5"
   ]
  },
  {
   "cell_type": "code",
   "execution_count": 2,
   "id": "3b4ee7ba-85e6-4971-9e11-03f7ea3c465a",
   "metadata": {},
   "outputs": [],
   "source": [
    "from sympy import Matrix"
   ]
  },
  {
   "cell_type": "code",
   "execution_count": 3,
   "id": "db362bcb-cbb5-491d-964b-433ef5e75f9a",
   "metadata": {},
   "outputs": [],
   "source": [
    "import numpy as np\n",
    "import matplotlib.pyplot as plt\n",
    "\n",
    "A = np.array([[2, 3], [-1, 1]])\n",
    "B = np.array([5, 5])"
   ]
  },
  {
   "cell_type": "code",
   "execution_count": 4,
   "id": "47c2be56-21b8-4907-b7af-c3e2357bb0e9",
   "metadata": {},
   "outputs": [
    {
     "data": {
      "text/plain": [
       "array([-2.,  3.])"
      ]
     },
     "execution_count": 4,
     "metadata": {},
     "output_type": "execute_result"
    }
   ],
   "source": [
    "np.linalg.solve(A,B)"
   ]
  },
  {
   "cell_type": "code",
   "execution_count": 5,
   "id": "362b8308-3f26-4a9e-ba9e-185f17291c1c",
   "metadata": {},
   "outputs": [],
   "source": [
    "A_Matrix = np.array([[2,3],[-1,1]])\n",
    "sympy_matrix = Matrix(A)"
   ]
  },
  {
   "cell_type": "code",
   "execution_count": 6,
   "id": "baf7a24b-b7ba-4400-9c7a-292cd32cf48a",
   "metadata": {},
   "outputs": [
    {
     "name": "stdout",
     "output_type": "stream",
     "text": [
      "행렬의 rref\n",
      "Matrix([[1, 0], [0, 1]])\n",
      "pivot columns (0, 1)\n"
     ]
    }
   ],
   "source": [
    "rref_matrix, pivot_columns = sympy_matrix.rref()\n",
    "print(\"행렬의 rref\")\n",
    "print(rref_matrix)\n",
    "print(\"pivot columns\", pivot_columns)"
   ]
  },
  {
   "cell_type": "markdown",
   "id": "d4394474-3af1-4062-bd29-2d660ac36436",
   "metadata": {},
   "source": [
    "<a href=\"https://adamdhalla.medium.com/linear-algebra-4-reduced-row-echelon-form-for-solving-ax-0-74f64b4f37ce\">RREF</a>"
   ]
  },
  {
   "cell_type": "markdown",
   "id": "0f0c9518-a27c-43f6-a498-aa7ca7d0d1e5",
   "metadata": {},
   "source": [
    "# 두 직선의 계수를 정의합니다 - 두 직선이 평행인 상태\n",
    "# 첫 번째 직선: 2x + 3y = 5\n",
    "# 두 번째 직선: -2x -3y = 15"
   ]
  },
  {
   "cell_type": "code",
   "execution_count": 9,
   "id": "ccbb243f-c87d-46ea-9b15-d2783808a5a1",
   "metadata": {},
   "outputs": [],
   "source": [
    "A = np.array([[2, 3], [-2, -3]])\n",
    "B = np.array([5, 15])"
   ]
  },
  {
   "cell_type": "code",
   "execution_count": 10,
   "id": "8015b62c-fe19-4b63-a912-b60b67ac2ba8",
   "metadata": {},
   "outputs": [],
   "source": [
    "# A_Matrix = np.array(A)\n",
    "sympy_matrix = Matrix(A)"
   ]
  },
  {
   "cell_type": "code",
   "execution_count": 11,
   "id": "a28c1dd5-59c9-40c9-b2fb-eb914aeccfea",
   "metadata": {},
   "outputs": [
    {
     "data": {
      "text/latex": [
       "$\\displaystyle \\left[\\begin{matrix}1 & \\frac{3}{2}\\\\0 & 0\\end{matrix}\\right]$"
      ],
      "text/plain": [
       "Matrix([\n",
       "[1, 3/2],\n",
       "[0,   0]])"
      ]
     },
     "execution_count": 11,
     "metadata": {},
     "output_type": "execute_result"
    }
   ],
   "source": [
    "rref_m , pivot_c= sympy_matrix.rref()\n",
    "rref_m"
   ]
  },
  {
   "cell_type": "markdown",
   "id": "773ea3ab-b299-4371-ac62-376ae19df8e2",
   "metadata": {},
   "source": [
    "# 3개의 평면의 계수를 정의합니다 \n",
    "# 첫 번째 평면: 2x + 3y + 7z = 5\n",
    "# 두 번째 평면: 3x + 4y + 12z = 7\n",
    "# 세 번째 평면: -6x + 6y + 5z = 13"
   ]
  },
  {
   "cell_type": "code",
   "execution_count": 13,
   "id": "549d20ca-7f78-4554-8765-bb315f08d942",
   "metadata": {},
   "outputs": [
    {
     "name": "stdout",
     "output_type": "stream",
     "text": [
      "Result: [ 4.54929577 -1.53521127 -0.08450704]\n",
      "Combined Result: [ 5.  7. 13.]\n"
     ]
    }
   ],
   "source": [
    "import numpy as np\n",
    "\n",
    "# 세 벡터 정의\n",
    "A_x = np.array([2, 3, 7])\n",
    "B_y = np.array([3, 4, 12])\n",
    "C_z = np.array([-6, 6, 5])\n",
    "\n",
    "# 결과 벡터\n",
    "b = np.array([5, 7, 13])\n",
    "\n",
    "# 열벡터 형태로 행렬 생성\n",
    "matrix = np.array([A_x, B_y, C_z]).T  # 벡터들을 열벡터로 전치\n",
    "\n",
    "# 선형 방정식 풀이\n",
    "result = np.linalg.solve(matrix, b)\n",
    "\n",
    "# 선형 결합 결과 확인\n",
    "combined_result = result[0] * A_x + result[1] * B_y + result[2] * C_z\n",
    "print(\"Result:\", result)\n",
    "print(\"Combined Result:\", combined_result)"
   ]
  },
  {
   "cell_type": "code",
   "execution_count": 14,
   "id": "1e272d0a-f712-43f4-873b-f7cc5bf18385",
   "metadata": {},
   "outputs": [
    {
     "name": "stdout",
     "output_type": "stream",
     "text": [
      "Result: [-9.80783919e+15  7.00559942e+15  2.33519981e+14]\n",
      "Combined Result: [1.75 2.25 9.75]\n"
     ]
    }
   ],
   "source": [
    "import numpy as np\n",
    "\n",
    "# 세 벡터 정의\n",
    "A_x = np.array([2, 3, 7])\n",
    "B_y = np.array([3, 4, 10])\n",
    "C_z = np.array([-6, 6, -6])\n",
    "\n",
    "# 결과 벡터\n",
    "b = np.array([5, 7, 13])\n",
    "\n",
    "# 열벡터 형태로 행렬 생성\n",
    "matrix = np.array([A_x, B_y, C_z]).T  # 벡터들을 열벡터로 전치\n",
    "\n",
    "# 선형 방정식 풀이\n",
    "result = np.linalg.solve(matrix, b)\n",
    "\n",
    "# 선형 결합 결과 확인\n",
    "combined_result = result[0] * A_x + result[1] * B_y + result[2] * C_z\n",
    "# 해가 무한대로 나옴\n",
    "print(\"Result:\", result) \n",
    "print(\"Combined Result:\", combined_result)"
   ]
  },
  {
   "cell_type": "markdown",
   "id": "5f812d67-f1d4-441b-a573-4aba139f151c",
   "metadata": {},
   "source": [
    "<h3> C벡터는 A와 B벡터의 선형 결합으로 이루어진 벡터이므로 평면안에 포함된다. 그래서 b를 구하지 못한다 </h3>"
   ]
  },
  {
   "cell_type": "code",
   "execution_count": 16,
   "id": "34142521-37d0-4e05-9920-c430bfd2709b",
   "metadata": {},
   "outputs": [
    {
     "name": "stdout",
     "output_type": "stream",
     "text": [
      "Result: [ 6.  -3.5  0.5]\n",
      "Combined Result: [ 5.  7. 13.]\n"
     ]
    }
   ],
   "source": [
    "import numpy as np\n",
    "\n",
    "# 세 벡터 정의\n",
    "A_x = np.array([2, 3, 7])\n",
    "B_y = np.array([3, 4, 12])\n",
    "C_z = np.array([7, 6, 26])\n",
    "\n",
    "# 결과 벡터\n",
    "b = np.array([5, 7, 13])\n",
    "\n",
    "# 열벡터 형태로 행렬 생성\n",
    "matrix = np.array([A_x, B_y, C_z]).T  # 벡터들을 열벡터로 전치\n",
    "\n",
    "# 선형 방정식 풀이\n",
    "result = np.linalg.solve(matrix, b)\n",
    "\n",
    "# 선형 결합 결과 확인\n",
    "combined_result = result[0] * A_x + result[1] * B_y + result[2] * C_z\n",
    "# 해가 무한대로 나옴\n",
    "print(\"Result:\", result) \n",
    "print(\"Combined Result:\", combined_result)"
   ]
  },
  {
   "cell_type": "code",
   "execution_count": 17,
   "id": "abf22fad-ca43-4143-8215-f1777e72988d",
   "metadata": {},
   "outputs": [],
   "source": [
    "# 세 벡터 정의\n",
    "A_x = np.array([2, 3, 7])\n",
    "B_y = np.array([3, 4, 12])\n",
    "C_z = np.array([7, 10, 26])"
   ]
  },
  {
   "cell_type": "code",
   "execution_count": 18,
   "id": "44f46613-50ed-4df0-9792-26b196526c71",
   "metadata": {},
   "outputs": [
    {
     "data": {
      "text/latex": [
       "$\\displaystyle \\left[\\begin{matrix}2 & 3 & 7\\\\3 & 4 & 12\\\\7 & 10 & 26\\end{matrix}\\right]$"
      ],
      "text/plain": [
       "Matrix([\n",
       "[2,  3,  7],\n",
       "[3,  4, 12],\n",
       "[7, 10, 26]])"
      ]
     },
     "execution_count": 18,
     "metadata": {},
     "output_type": "execute_result"
    }
   ],
   "source": [
    "sympy_matrix_three_dim = Matrix([A_x, B_y, C_z])\n",
    "sympy_matrix_three_dim"
   ]
  },
  {
   "cell_type": "code",
   "execution_count": 19,
   "id": "02639bc9-b77f-498c-8d18-2d371675b6a7",
   "metadata": {},
   "outputs": [
    {
     "data": {
      "text/plain": [
       "(Matrix([\n",
       " [1, 0,  8],\n",
       " [0, 1, -3],\n",
       " [0, 0,  0]]),\n",
       " (0, 1))"
      ]
     },
     "execution_count": 19,
     "metadata": {},
     "output_type": "execute_result"
    }
   ],
   "source": [
    "rref_m , pivot_c= sympy_matrix_three_dim.rref()\n",
    "rref_m, pivot_c"
   ]
  }
 ],
 "metadata": {
  "kernelspec": {
   "display_name": "Python 3 (ipykernel)",
   "language": "python",
   "name": "python3"
  },
  "language_info": {
   "codemirror_mode": {
    "name": "ipython",
    "version": 3
   },
   "file_extension": ".py",
   "mimetype": "text/x-python",
   "name": "python",
   "nbconvert_exporter": "python",
   "pygments_lexer": "ipython3",
   "version": "3.12.4"
  }
 },
 "nbformat": 4,
 "nbformat_minor": 5
}
