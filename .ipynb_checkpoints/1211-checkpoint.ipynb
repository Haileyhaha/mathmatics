{
 "cells": [
  {
   "cell_type": "code",
   "execution_count": 1,
   "id": "f9d3ad5d-6609-47d3-9187-d7ac62731f3d",
   "metadata": {},
   "outputs": [],
   "source": [
    "import numpy as np"
   ]
  },
  {
   "cell_type": "markdown",
   "id": "8e222906-ab96-4afe-92cb-1a13b3d55d2a",
   "metadata": {},
   "source": [
    "<img src = \"images/1211/1.jpg\"/>"
   ]
  },
  {
   "cell_type": "code",
   "execution_count": 6,
   "id": "28d64231-5508-4e79-9824-94ca851daa90",
   "metadata": {},
   "outputs": [],
   "source": [
    "class Norm:\n",
    "    def __init__(self, x, y=np.array([])):\n",
    "        assert type(x) != None\n",
    "        self.x = x\n",
    "        self.y = y\n",
    "\n",
    "    def one_norm(self, x):\n",
    "        x_new = []\n",
    "        for i in x:\n",
    "            x_new.append(i**2)\n",
    "        return sum(np.array(x_new))**(1/2)\n",
    "\n",
    "    def two_norm(self, x, y):\n",
    "        x_new = []\n",
    "        for i, j in zip(x, y):\n",
    "            x_new.append((i - j)**2)\n",
    "\n",
    "        x_new = sum(np.array(x_new))\n",
    "        return x_new**(1/2)\n",
    "\n",
    "    def call(self):\n",
    "        if self.y.size > 0:\n",
    "            return self.two_norm(self.x, self.y)\n",
    "        else:\n",
    "            return self.one_norm(self.x)"
   ]
  },
  {
   "cell_type": "code",
   "execution_count": 9,
   "id": "fe28523c-a4ed-40ca-bed7-3760498b6667",
   "metadata": {},
   "outputs": [
    {
     "data": {
      "text/plain": [
       "3.7416573867739413"
      ]
     },
     "execution_count": 9,
     "metadata": {},
     "output_type": "execute_result"
    }
   ],
   "source": [
    "x = np.array([1,2,3])\n",
    "norm = Norm(x)\n",
    "norm.one_norm(x)"
   ]
  },
  {
   "cell_type": "code",
   "execution_count": 15,
   "id": "6f229728-c11f-423b-9fa0-8cae1ea02d8b",
   "metadata": {},
   "outputs": [
    {
     "name": "stdout",
     "output_type": "stream",
     "text": [
      "사랑11\n",
      "믿음23\n",
      "증오13\n",
      "감사14\n"
     ]
    }
   ],
   "source": [
    "x = ['사랑','믿음','증오','감사']\n",
    "xx = [11,23,13,14]\n",
    "for i , j in zip (x,xx):\n",
    "    print(i + str(j))"
   ]
  },
  {
   "cell_type": "code",
   "execution_count": 11,
   "id": "279f9185-ae5b-450b-85e0-4a3c8bbd6e08",
   "metadata": {},
   "outputs": [
    {
     "data": {
      "text/plain": [
       "12.609520212918492"
      ]
     },
     "execution_count": 11,
     "metadata": {},
     "output_type": "execute_result"
    }
   ],
   "source": [
    "x = np.array([1,2,3,4])\n",
    "y = np.array([11,-1,2,-3])\n",
    "norm.two_norm(x,y)"
   ]
  },
  {
   "cell_type": "markdown",
   "id": "c02c1640-3363-4ab7-9234-feb2bb51ddfe",
   "metadata": {},
   "source": [
    "## 예제\n",
    "$ R^{4}의 벡터 x = (2,-1,3,2) , y =(3,2,1,-4) $ \n",
    "에 대하여 각 벡터의 원점에 대한 norm과 x와 y에 대한 norm을 구하여라"
   ]
  },
  {
   "cell_type": "code",
   "execution_count": 20,
   "id": "33f65132-8d46-407a-9e86-3c8d8e13d330",
   "metadata": {},
   "outputs": [
    {
     "name": "stdout",
     "output_type": "stream",
     "text": [
      "x의 원점에 대한 norm: 4.242640687119285\n",
      "y의 원점에 대한 norm 5.477225575051661\n",
      "x와 y의 norm: 7.0710678118654755\n"
     ]
    }
   ],
   "source": [
    "x = np.array([2, -1, 3, 2])\n",
    "y = np.array([3, 2, 1, -4])\n",
    "\n",
    "answer_1 = Norm(x).call()\n",
    "answer_2 = Norm(y).call()\n",
    "answer_3 = Norm(x, y).call()\n",
    "\n",
    "print(f\"x의 원점에 대한 norm: {answer_1}\\ny의 원점에 대한 norm {answer_2}\\nx와 y의 norm: {answer_3}\")"
   ]
  },
  {
   "cell_type": "markdown",
   "id": "6d224d47-30fb-4ded-b8b2-52d1ca763bb5",
   "metadata": {},
   "source": [
    "<img src = \"images/1211/inner.jpg\"/>"
   ]
  },
  {
   "cell_type": "code",
   "execution_count": 25,
   "id": "1bdb74eb-f99c-4ce9-b955-6af9b73e979a",
   "metadata": {},
   "outputs": [],
   "source": [
    "def inner_product(x, y):\n",
    "    a = 0\n",
    "    for i, j in zip(x, y):\n",
    "        a += i * j\n",
    "    return a"
   ]
  },
  {
   "cell_type": "code",
   "execution_count": 27,
   "id": "341497ea-4f79-43c8-8176-7ed6dafbd096",
   "metadata": {},
   "outputs": [
    {
     "name": "stdout",
     "output_type": "stream",
     "text": [
      "x, y의 내적: 14\n",
      "x와 x의 내적: 84\n",
      "x와 x의 내적이 x의 norm의 제곱인가?: True\n"
     ]
    }
   ],
   "source": [
    "x = np.array([1, 3, 5, 7])\n",
    "y = np.array([1, -2, 1, 2])\n",
    "\n",
    "norm_x = Norm(x).call()\n",
    "res = inner_product(x, y)\n",
    "res_2 = inner_product(x, x)\n",
    "print(f\"x, y의 내적: {res}\\nx와 x의 내적: {res_2}\")\n",
    "print(f\"x와 x의 내적이 x의 norm의 제곱인가?: {round(norm_x**2) == res_2}\") #calculting floating number has some error, round() method can partically fix that."
   ]
  },
  {
   "cell_type": "markdown",
   "id": "422197f6-8009-4e8b-9d9b-d96411e30720",
   "metadata": {},
   "source": [
    "<img src = \"images/1211/c.jpg\"/>"
   ]
  },
  {
   "cell_type": "code",
   "execution_count": 30,
   "id": "ac337deb-95d1-4c30-b719-ceb2de9690f3",
   "metadata": {},
   "outputs": [
    {
     "name": "stdout",
     "output_type": "stream",
     "text": [
      "직교하는가?: True\n"
     ]
    }
   ],
   "source": [
    "x = np.array([1, 0, 1, 1])\n",
    "y = np.array([-1, 0, 0, 1])\n",
    "\n",
    "print(f\"직교하는가?: {inner_product(x, y)==0}\")"
   ]
  },
  {
   "cell_type": "markdown",
   "id": "7d223918-e7d0-4c74-ad18-6ae02f1bb81d",
   "metadata": {},
   "source": [
    "## 직교 ( orthogonal ) , 수직 ( perpendicular ) , 평행 ( parallel )"
   ]
  },
  {
   "cell_type": "markdown",
   "id": "9d3bc115-cec3-4bf5-a3e6-0a20224e3d60",
   "metadata": {},
   "source": [
    "<img src = \"images/1211/linearEquation.jpg\"/>"
   ]
  }
 ],
 "metadata": {
  "kernelspec": {
   "display_name": "Python 3 (ipykernel)",
   "language": "python",
   "name": "python3"
  },
  "language_info": {
   "codemirror_mode": {
    "name": "ipython",
    "version": 3
   },
   "file_extension": ".py",
   "mimetype": "text/x-python",
   "name": "python",
   "nbconvert_exporter": "python",
   "pygments_lexer": "ipython3",
   "version": "3.12.4"
  }
 },
 "nbformat": 4,
 "nbformat_minor": 5
}
